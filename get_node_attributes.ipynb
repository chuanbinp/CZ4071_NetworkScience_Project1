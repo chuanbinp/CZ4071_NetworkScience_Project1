{
  "nbformat": 4,
  "nbformat_minor": 0,
  "metadata": {
    "colab": {
      "name": "get_node_attributes.ipynb",
      "provenance": []
    },
    "kernelspec": {
      "name": "python3",
      "display_name": "Python 3"
    },
    "language_info": {
      "name": "python"
    }
  },
  "cells": [
    {
      "cell_type": "code",
      "source": [
        "import pandas as pd\n",
        "import requests\n",
        "import random\n",
        "import pickle"
      ],
      "metadata": {
        "id": "Gmv_GhGyJ7NB"
      },
      "execution_count": 4,
      "outputs": []
    },
    {
      "cell_type": "code",
      "source": [
        "pip install --upgrade xlrd"
      ],
      "metadata": {
        "colab": {
          "base_uri": "https://localhost:8080/",
          "height": 277
        },
        "id": "kn6XA162Ky0O",
        "outputId": "fd0a4cf4-61ce-4263-c2d2-775ac9f653be"
      },
      "execution_count": 5,
      "outputs": [
        {
          "output_type": "stream",
          "name": "stdout",
          "text": [
            "Requirement already satisfied: xlrd in /usr/local/lib/python3.7/dist-packages (1.1.0)\n",
            "Collecting xlrd\n",
            "  Downloading xlrd-2.0.1-py2.py3-none-any.whl (96 kB)\n",
            "\u001b[K     |████████████████████████████████| 96 kB 2.8 MB/s \n",
            "\u001b[?25hInstalling collected packages: xlrd\n",
            "  Attempting uninstall: xlrd\n",
            "    Found existing installation: xlrd 1.1.0\n",
            "    Uninstalling xlrd-1.1.0:\n",
            "      Successfully uninstalled xlrd-1.1.0\n",
            "Successfully installed xlrd-2.0.1\n"
          ]
        },
        {
          "output_type": "display_data",
          "data": {
            "application/vnd.colab-display-data+json": {
              "pip_warning": {
                "packages": [
                  "xlrd"
                ]
              }
            }
          },
          "metadata": {}
        }
      ]
    },
    {
      "cell_type": "code",
      "execution_count": 3,
      "metadata": {
        "id": "WbK_VqLmJou1"
      },
      "outputs": [],
      "source": [
        "attrs={}\n",
        "data_scientists=pd.read_excel('./Input/DataScientists.xls')\n",
        "host_address = 'https://dblp.org/pid/'\n",
        "link_addresses=data_scientists['dblp'].copy()\n",
        "pid_list = []\n",
        "for link_address in link_addresses:\n",
        "  r = requests.get(link_address) \n",
        "  pid = '/'.join(r.url.split('/')[-2:]).replace('.html','')\n",
        "  data_scientists['dblp'].replace({link_address: pid}, inplace=True)\n",
        "  # Do not process repeated PID, error checking for duplicate reocrds\n",
        "  if pid in pid_list:\n",
        "      continue\n",
        "  pid_list.append(pid)\n",
        "  row_data=data_scientists[data_scientists.dblp==pid].iloc[0]\n",
        "  attrs[pid]={\"country\":row_data['country'],\"institute\":row_data['institution'],\"expertise\":random.randint(1, 10)}\n"
      ]
    },
    {
      "cell_type": "code",
      "source": [
        "with open('saved_attrs.pkl', 'wb') as f:\n",
        "    pickle.dump(attrs, f)"
      ],
      "metadata": {
        "id": "uwl0Q1qoJ97c"
      },
      "execution_count": 6,
      "outputs": []
    }
  ]
}