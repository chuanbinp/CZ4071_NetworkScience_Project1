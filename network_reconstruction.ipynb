{
  "nbformat": 4,
  "nbformat_minor": 0,
  "metadata": {
    "colab": {
      "name": "network_reconstruction.ipynb",
      "provenance": [],
      "collapsed_sections": []
    },
    "kernelspec": {
      "name": "python3",
      "display_name": "Python 3"
    },
    "language_info": {
      "name": "python"
    }
  },
  "cells": [
    {
      "cell_type": "markdown",
      "source": [
        "# **CZ4071 Reconstructing the Network**\n",
        "**Author: Rajeswari Bose**"
      ],
      "metadata": {
        "id": "OBVPkcOfg1UC"
      }
    },
    {
      "cell_type": "markdown",
      "source": [
        "### **0. Import dependencies**"
      ],
      "metadata": {
        "id": "ID2MxJithICf"
      }
    },
    {
      "cell_type": "code",
      "execution_count": 5,
      "metadata": {
        "id": "Rs8WPW8_c-Cb"
      },
      "outputs": [],
      "source": [
        "import pandas as pd\n",
        "import networkx as nx\n",
        "import matplotlib.pyplot as plt\n",
        "import numpy as np\n",
        "import requests\n",
        "import random\n",
        "import pickle"
      ]
    },
    {
      "cell_type": "markdown",
      "source": [
        "### **1. Read input file**"
      ],
      "metadata": {
        "id": "Qp_LawHYhjU0"
      }
    },
    {
      "cell_type": "code",
      "source": [
        "df = pd.read_csv(\"./Input/ProcessedNetworkDataFrame.csv\")\n",
        "df"
      ],
      "metadata": {
        "colab": {
          "base_uri": "https://localhost:8080/",
          "height": 423
        },
        "id": "4B15f8VsRr_0",
        "outputId": "71487e9a-5e05-4222-eba5-3357e3c29bfa"
      },
      "execution_count": 6,
      "outputs": [
        {
          "output_type": "execute_result",
          "data": {
            "text/plain": [
              "      author_pid  coauthor_pid  year  \\\n",
              "0        75/9436      163/0545  2021   \n",
              "1        75/9436      163/0545  2021   \n",
              "2        75/9436  f/MJFranklin  2021   \n",
              "3        75/9436      147/1189  2021   \n",
              "4        75/9436      117/3757  2021   \n",
              "...          ...           ...   ...   \n",
              "31025   189/2405       20/3716  2019   \n",
              "31026   189/2405       20/3716  2018   \n",
              "31027   189/2405       20/3716  2018   \n",
              "31028   189/2405       20/3716  2017   \n",
              "31029   169/3426      169/3419  2015   \n",
              "\n",
              "                                                   title      author_name  \\\n",
              "0      Decomposed Bounded Floats for Fast Compression...  Aaron J. Elmore   \n",
              "1      VergeDB: A Database for IoT Analytics on Edge ...  Aaron J. Elmore   \n",
              "2      VergeDB: A Database for IoT Analytics on Edge ...  Aaron J. Elmore   \n",
              "3      VergeDB: A Database for IoT Analytics on Edge ...  Aaron J. Elmore   \n",
              "4      Version Reconciliation for Collaborative Datab...  Aaron J. Elmore   \n",
              "...                                                  ...              ...   \n",
              "31025  Balance-Aware Distributed String Similarity-Ba...     Zeyuan Shang   \n",
              "31026  DITA: Distributed In-Memory Trajectory Analytics.     Zeyuan Shang   \n",
              "31027  DITA: A Distributed In-Memory Trajectory Analy...     Zeyuan Shang   \n",
              "31028  Dima: A Distributed In-Memory Similarity-Based...     Zeyuan Shang   \n",
              "31029       SINGA: A Distributed Deep Learning Platform.     Zhaojing Luo   \n",
              "\n",
              "             coauthor_name  \n",
              "0          John Paparrizos  \n",
              "1          John Paparrizos  \n",
              "2      Michael J. Franklin  \n",
              "3          Sanjay Krishnan  \n",
              "4             Zechao Shang  \n",
              "...                    ...  \n",
              "31025          Zhifeng Bao  \n",
              "31026          Zhifeng Bao  \n",
              "31027          Zhifeng Bao  \n",
              "31028          Zhifeng Bao  \n",
              "31029          Zhongle Xie  \n",
              "\n",
              "[31030 rows x 6 columns]"
            ],
            "text/html": [
              "\n",
              "  <div id=\"df-29213a7c-f0ac-41a9-b3a3-3d958e095c3b\">\n",
              "    <div class=\"colab-df-container\">\n",
              "      <div>\n",
              "<style scoped>\n",
              "    .dataframe tbody tr th:only-of-type {\n",
              "        vertical-align: middle;\n",
              "    }\n",
              "\n",
              "    .dataframe tbody tr th {\n",
              "        vertical-align: top;\n",
              "    }\n",
              "\n",
              "    .dataframe thead th {\n",
              "        text-align: right;\n",
              "    }\n",
              "</style>\n",
              "<table border=\"1\" class=\"dataframe\">\n",
              "  <thead>\n",
              "    <tr style=\"text-align: right;\">\n",
              "      <th></th>\n",
              "      <th>author_pid</th>\n",
              "      <th>coauthor_pid</th>\n",
              "      <th>year</th>\n",
              "      <th>title</th>\n",
              "      <th>author_name</th>\n",
              "      <th>coauthor_name</th>\n",
              "    </tr>\n",
              "  </thead>\n",
              "  <tbody>\n",
              "    <tr>\n",
              "      <th>0</th>\n",
              "      <td>75/9436</td>\n",
              "      <td>163/0545</td>\n",
              "      <td>2021</td>\n",
              "      <td>Decomposed Bounded Floats for Fast Compression...</td>\n",
              "      <td>Aaron J. Elmore</td>\n",
              "      <td>John Paparrizos</td>\n",
              "    </tr>\n",
              "    <tr>\n",
              "      <th>1</th>\n",
              "      <td>75/9436</td>\n",
              "      <td>163/0545</td>\n",
              "      <td>2021</td>\n",
              "      <td>VergeDB: A Database for IoT Analytics on Edge ...</td>\n",
              "      <td>Aaron J. Elmore</td>\n",
              "      <td>John Paparrizos</td>\n",
              "    </tr>\n",
              "    <tr>\n",
              "      <th>2</th>\n",
              "      <td>75/9436</td>\n",
              "      <td>f/MJFranklin</td>\n",
              "      <td>2021</td>\n",
              "      <td>VergeDB: A Database for IoT Analytics on Edge ...</td>\n",
              "      <td>Aaron J. Elmore</td>\n",
              "      <td>Michael J. Franklin</td>\n",
              "    </tr>\n",
              "    <tr>\n",
              "      <th>3</th>\n",
              "      <td>75/9436</td>\n",
              "      <td>147/1189</td>\n",
              "      <td>2021</td>\n",
              "      <td>VergeDB: A Database for IoT Analytics on Edge ...</td>\n",
              "      <td>Aaron J. Elmore</td>\n",
              "      <td>Sanjay Krishnan</td>\n",
              "    </tr>\n",
              "    <tr>\n",
              "      <th>4</th>\n",
              "      <td>75/9436</td>\n",
              "      <td>117/3757</td>\n",
              "      <td>2021</td>\n",
              "      <td>Version Reconciliation for Collaborative Datab...</td>\n",
              "      <td>Aaron J. Elmore</td>\n",
              "      <td>Zechao Shang</td>\n",
              "    </tr>\n",
              "    <tr>\n",
              "      <th>...</th>\n",
              "      <td>...</td>\n",
              "      <td>...</td>\n",
              "      <td>...</td>\n",
              "      <td>...</td>\n",
              "      <td>...</td>\n",
              "      <td>...</td>\n",
              "    </tr>\n",
              "    <tr>\n",
              "      <th>31025</th>\n",
              "      <td>189/2405</td>\n",
              "      <td>20/3716</td>\n",
              "      <td>2019</td>\n",
              "      <td>Balance-Aware Distributed String Similarity-Ba...</td>\n",
              "      <td>Zeyuan Shang</td>\n",
              "      <td>Zhifeng Bao</td>\n",
              "    </tr>\n",
              "    <tr>\n",
              "      <th>31026</th>\n",
              "      <td>189/2405</td>\n",
              "      <td>20/3716</td>\n",
              "      <td>2018</td>\n",
              "      <td>DITA: Distributed In-Memory Trajectory Analytics.</td>\n",
              "      <td>Zeyuan Shang</td>\n",
              "      <td>Zhifeng Bao</td>\n",
              "    </tr>\n",
              "    <tr>\n",
              "      <th>31027</th>\n",
              "      <td>189/2405</td>\n",
              "      <td>20/3716</td>\n",
              "      <td>2018</td>\n",
              "      <td>DITA: A Distributed In-Memory Trajectory Analy...</td>\n",
              "      <td>Zeyuan Shang</td>\n",
              "      <td>Zhifeng Bao</td>\n",
              "    </tr>\n",
              "    <tr>\n",
              "      <th>31028</th>\n",
              "      <td>189/2405</td>\n",
              "      <td>20/3716</td>\n",
              "      <td>2017</td>\n",
              "      <td>Dima: A Distributed In-Memory Similarity-Based...</td>\n",
              "      <td>Zeyuan Shang</td>\n",
              "      <td>Zhifeng Bao</td>\n",
              "    </tr>\n",
              "    <tr>\n",
              "      <th>31029</th>\n",
              "      <td>169/3426</td>\n",
              "      <td>169/3419</td>\n",
              "      <td>2015</td>\n",
              "      <td>SINGA: A Distributed Deep Learning Platform.</td>\n",
              "      <td>Zhaojing Luo</td>\n",
              "      <td>Zhongle Xie</td>\n",
              "    </tr>\n",
              "  </tbody>\n",
              "</table>\n",
              "<p>31030 rows × 6 columns</p>\n",
              "</div>\n",
              "      <button class=\"colab-df-convert\" onclick=\"convertToInteractive('df-29213a7c-f0ac-41a9-b3a3-3d958e095c3b')\"\n",
              "              title=\"Convert this dataframe to an interactive table.\"\n",
              "              style=\"display:none;\">\n",
              "        \n",
              "  <svg xmlns=\"http://www.w3.org/2000/svg\" height=\"24px\"viewBox=\"0 0 24 24\"\n",
              "       width=\"24px\">\n",
              "    <path d=\"M0 0h24v24H0V0z\" fill=\"none\"/>\n",
              "    <path d=\"M18.56 5.44l.94 2.06.94-2.06 2.06-.94-2.06-.94-.94-2.06-.94 2.06-2.06.94zm-11 1L8.5 8.5l.94-2.06 2.06-.94-2.06-.94L8.5 2.5l-.94 2.06-2.06.94zm10 10l.94 2.06.94-2.06 2.06-.94-2.06-.94-.94-2.06-.94 2.06-2.06.94z\"/><path d=\"M17.41 7.96l-1.37-1.37c-.4-.4-.92-.59-1.43-.59-.52 0-1.04.2-1.43.59L10.3 9.45l-7.72 7.72c-.78.78-.78 2.05 0 2.83L4 21.41c.39.39.9.59 1.41.59.51 0 1.02-.2 1.41-.59l7.78-7.78 2.81-2.81c.8-.78.8-2.07 0-2.86zM5.41 20L4 18.59l7.72-7.72 1.47 1.35L5.41 20z\"/>\n",
              "  </svg>\n",
              "      </button>\n",
              "      \n",
              "  <style>\n",
              "    .colab-df-container {\n",
              "      display:flex;\n",
              "      flex-wrap:wrap;\n",
              "      gap: 12px;\n",
              "    }\n",
              "\n",
              "    .colab-df-convert {\n",
              "      background-color: #E8F0FE;\n",
              "      border: none;\n",
              "      border-radius: 50%;\n",
              "      cursor: pointer;\n",
              "      display: none;\n",
              "      fill: #1967D2;\n",
              "      height: 32px;\n",
              "      padding: 0 0 0 0;\n",
              "      width: 32px;\n",
              "    }\n",
              "\n",
              "    .colab-df-convert:hover {\n",
              "      background-color: #E2EBFA;\n",
              "      box-shadow: 0px 1px 2px rgba(60, 64, 67, 0.3), 0px 1px 3px 1px rgba(60, 64, 67, 0.15);\n",
              "      fill: #174EA6;\n",
              "    }\n",
              "\n",
              "    [theme=dark] .colab-df-convert {\n",
              "      background-color: #3B4455;\n",
              "      fill: #D2E3FC;\n",
              "    }\n",
              "\n",
              "    [theme=dark] .colab-df-convert:hover {\n",
              "      background-color: #434B5C;\n",
              "      box-shadow: 0px 1px 3px 1px rgba(0, 0, 0, 0.15);\n",
              "      filter: drop-shadow(0px 1px 2px rgba(0, 0, 0, 0.3));\n",
              "      fill: #FFFFFF;\n",
              "    }\n",
              "  </style>\n",
              "\n",
              "      <script>\n",
              "        const buttonEl =\n",
              "          document.querySelector('#df-29213a7c-f0ac-41a9-b3a3-3d958e095c3b button.colab-df-convert');\n",
              "        buttonEl.style.display =\n",
              "          google.colab.kernel.accessAllowed ? 'block' : 'none';\n",
              "\n",
              "        async function convertToInteractive(key) {\n",
              "          const element = document.querySelector('#df-29213a7c-f0ac-41a9-b3a3-3d958e095c3b');\n",
              "          const dataTable =\n",
              "            await google.colab.kernel.invokeFunction('convertToInteractive',\n",
              "                                                     [key], {});\n",
              "          if (!dataTable) return;\n",
              "\n",
              "          const docLinkHtml = 'Like what you see? Visit the ' +\n",
              "            '<a target=\"_blank\" href=https://colab.research.google.com/notebooks/data_table.ipynb>data table notebook</a>'\n",
              "            + ' to learn more about interactive tables.';\n",
              "          element.innerHTML = '';\n",
              "          dataTable['output_type'] = 'display_data';\n",
              "          await google.colab.output.renderOutput(dataTable, element);\n",
              "          const docLink = document.createElement('div');\n",
              "          docLink.innerHTML = docLinkHtml;\n",
              "          element.appendChild(docLink);\n",
              "        }\n",
              "      </script>\n",
              "    </div>\n",
              "  </div>\n",
              "  "
            ]
          },
          "metadata": {},
          "execution_count": 6
        }
      ]
    },
    {
      "cell_type": "markdown",
      "source": [
        "### **2. Prepare graph data**"
      ],
      "metadata": {
        "id": "Lx2A2xmChxfl"
      }
    },
    {
      "cell_type": "code",
      "source": [
        "author_pid = df[\"author_pid\"].to_list()\n",
        "coauthor_pid = df[\"coauthor_pid\"].to_list()\n",
        "collaborations = list(zip(author_pid, coauthor_pid))"
      ],
      "metadata": {
        "id": "WhLRIpw7Rxtl"
      },
      "execution_count": 7,
      "outputs": []
    },
    {
      "cell_type": "code",
      "source": [
        "with open('saved_attrs.pkl', 'rb') as f:\n",
        "                attrs = pickle.load(f)"
      ],
      "metadata": {
        "id": "MWboblPs-zNR"
      },
      "execution_count": 8,
      "outputs": []
    },
    {
      "cell_type": "markdown",
      "source": [
        "### **3. Original Graph**"
      ],
      "metadata": {
        "id": "5jniy1o6h5l5"
      }
    },
    {
      "cell_type": "code",
      "source": [
        "#original collaboration network\n",
        "G = nx.Graph()\n",
        "G.add_edges_from(collaborations)"
      ],
      "metadata": {
        "id": "T-siaF89fyO1"
      },
      "execution_count": 38,
      "outputs": []
    },
    {
      "cell_type": "code",
      "source": [
        "nx.set_node_attributes(G,attrs)"
      ],
      "metadata": {
        "id": "AKBQ6WOoPkI1"
      },
      "execution_count": 39,
      "outputs": []
    },
    {
      "cell_type": "code",
      "source": [
        "nx.draw(G)"
      ],
      "metadata": {
        "colab": {
          "base_uri": "https://localhost:8080/",
          "height": 319
        },
        "id": "ZjjvBHAXR-qd",
        "outputId": "4d105e90-b32c-4d19-801c-90e48c535fb2"
      },
      "execution_count": 40,
      "outputs": [
        {
          "output_type": "display_data",
          "data": {
            "text/plain": [
              "<Figure size 432x288 with 1 Axes>"
            ],
            "image/png": "[encoded data removed]"
          },
          "metadata": {}
        }
      ]
    },
    {
      "cell_type": "code",
      "source": [
        "print(\"Number of isolates: \", nx.number_of_isolates(G))\n",
        "print(\"Number of connected components: \", nx.number_connected_components(G))\n",
        "for C in (G.subgraph(c).copy() for c in sorted(nx.connected_components(G), key=len)):\n",
        "  lcc = C\n",
        "print(\"Size of giant component: \",nx.number_of_nodes(lcc))\n",
        "print(\"Average Degree: \",nx.number_of_edges(G) / nx.number_of_nodes(G))"
      ],
      "metadata": {
        "colab": {
          "base_uri": "https://localhost:8080/"
        },
        "id": "N9V3WxyJVpvk",
        "outputId": "d9efc140-cddc-49ad-e05d-4bab6420aed6"
      },
      "execution_count": 41,
      "outputs": [
        {
          "output_type": "stream",
          "name": "stdout",
          "text": [
            "Number of isolates:  0\n",
            "Number of connected components:  3\n",
            "Size of giant component:  983\n",
            "Average Degree:  6.518705763397371\n"
          ]
        }
      ]
    },
    {
      "cell_type": "markdown",
      "source": [
        "### **4. Reconstructing Graph**"
      ],
      "metadata": {
        "id": "dIpqSng3h-36"
      }
    },
    {
      "cell_type": "markdown",
      "source": [
        "Function to calculate the diversity of a connected component"
      ],
      "metadata": {
        "id": "xPaQikaFiDjz"
      }
    },
    {
      "cell_type": "code",
      "source": [
        "def calculate_diversity(connected_component):\n",
        "  num_nodes=len(connected_component)\n",
        "  countries=[]\n",
        "  institutes=[]\n",
        "  expertise=[]\n",
        "  for node in connected_component:\n",
        "    countries.append(G.nodes[node]['country'])\n",
        "    institutes.append(G.nodes[node]['institute'])\n",
        "    expertise.append(G.nodes[node]['expertise'])\n",
        "  diversity=(len(set(countries))/num_nodes)*(len(set(institutes))/num_nodes)*(len(set(expertise))/num_nodes)\n",
        "  return diversity"
      ],
      "metadata": {
        "id": "VTOPcsjt2CKD"
      },
      "execution_count": 42,
      "outputs": []
    },
    {
      "cell_type": "markdown",
      "source": [
        "Removing those bridges which do not decrease/retain diversity"
      ],
      "metadata": {
        "id": "16Bx_qzqiHt_"
      }
    },
    {
      "cell_type": "code",
      "source": [
        "bridges=nx.bridges(G)\n",
        "#removing bridges\n",
        "for bridge in bridges:\n",
        "  #calculating data of connected component\n",
        "  cc_diversity=calculate_diversity(nx.node_connected_component(G, bridge[0]))\n",
        "  cc_nodes=len(nx.node_connected_component(G, bridge[0]))\n",
        "  G.remove_edge(bridge[0],bridge[1])\n",
        "  #new diversity is weighted sum of new cc diversities\n",
        "  cc_new_diversity=(len(nx.node_connected_component(G, bridge[0]))/cc_nodes)*calculate_diversity(nx.node_connected_component(G, bridge[0]))+(len(nx.node_connected_component(G, bridge[0]))/cc_nodes)*calculate_diversity(nx.node_connected_component(G, bridge[1]))\n",
        "  #don't remove bridge if results in less diversity\n",
        "  if (cc_diversity>cc_new_diversity):\n",
        "    G.add_edge(bridge[0],bridge[1]) #TODO: add back attributes like country, expertise, and institution (not sure if it is removed after deleting edge)"
      ],
      "metadata": {
        "id": "rM2zQ5rKzghB"
      },
      "execution_count": 43,
      "outputs": []
    },
    {
      "cell_type": "code",
      "source": [
        "#setting kmax=<k>\n",
        "kmax=nx.number_of_edges(G) / nx.number_of_nodes(G)\n",
        "print(\"Kmax= \",kmax)"
      ],
      "metadata": {
        "colab": {
          "base_uri": "https://localhost:8080/"
        },
        "id": "LGm33hWgWw-s",
        "outputId": "f0823da9-cf6b-437a-e6cc-68f028d98496"
      },
      "execution_count": 44,
      "outputs": [
        {
          "output_type": "stream",
          "name": "stdout",
          "text": [
            "Kmax=  6.437815975733064\n"
          ]
        }
      ]
    },
    {
      "cell_type": "markdown",
      "source": [
        "Removing nodes such that the degree is not greater than kmax"
      ],
      "metadata": {
        "id": "M1BVLRYmiSGt"
      }
    },
    {
      "cell_type": "code",
      "source": [
        "\n",
        "#reducing degree of each node below kmax\n",
        "for node in G:\n",
        "  #only reducing if greater than kmax\n",
        "  if(G.degree[node]>kmax):\n",
        "    #removing edges in the following priority till degree is not greater than kmax 1) both nodes have the same country, institution, or expertise 2) decreasing order of other node's degree\n",
        "    edges=G.edges(node)\n",
        "    neighbours=[]\n",
        "    for edge in edges:\n",
        "      neighbours.append(edge[1])\n",
        "    neighbour_degrees=[]\n",
        "    zero_diff=[]\n",
        "    one_diff=[]\n",
        "    two_diff=[]\n",
        "    neighbour_index=0\n",
        "    for neighbour in neighbours:\n",
        "      #get degrees of each neighbour\n",
        "      neighbour_degrees.append(G.degree(neighbour))\n",
        "      #get difference in attributes from node (range:0-3)\n",
        "      neighbour_difference=0\n",
        "      if(G.nodes[neighbour]['institute']!=G.nodes[node]['institute']):\n",
        "        neighbour_difference+=1\n",
        "      if(G.nodes[neighbour]['country']!=G.nodes[node]['country']):\n",
        "        neighbour_difference+=1\n",
        "      if(G.nodes[neighbour]['expertise']!=G.nodes[node]['expertise']):\n",
        "        neighbour_difference+=1\n",
        "      if neighbour_difference==0:\n",
        "        zero_diff.append(neighbour_index)\n",
        "      elif neighbour_difference==1:\n",
        "        one_diff.append(neighbour_index)\n",
        "      elif neighbour_difference==2:\n",
        "        two_diff.append(neighbour_index)\n",
        "      else:\n",
        "        two_diff.append(neighbour_index)\n",
        "      neighbour_index+=1\n",
        "    sorted_degree_indexes=sorted(range(len(neighbour_degrees)), key=lambda k: neighbour_degrees[k])\n",
        "    #removing: neighbours with 0 difference from node\n",
        "    for index in zero_diff:\n",
        "      G.remove_edge(node,neighbours[index])\n",
        "      sorted_degree_indexes.remove(index)\n",
        "    if G.degree(node)<=kmax:\n",
        "      continue\n",
        "    #removing: neighbours with 1 difference from node\n",
        "    for index in one_diff:\n",
        "      G.remove_edge(node,neighbours[index])\n",
        "      sorted_degree_indexes.remove(index)\n",
        "    if G.degree(node)<=kmax:\n",
        "      continue\n",
        "    #removing: neighbours with 2 differences from node\n",
        "    for index in two_diff:\n",
        "      G.remove_edge(node,neighbours[index])\n",
        "      sorted_degree_indexes.remove(index)\n",
        "    if G.degree(node)<=kmax:\n",
        "      continue\n",
        "    #removing nodes by highest degree till less than kmax\n",
        "    while G.degree(node)>kmax:\n",
        "      G.remove_edge(node,neighbours[sorted_degree_indexes[-1]])\n",
        "      sorted_degree_indexes.pop()"
      ],
      "metadata": {
        "id": "xlrEcDnJ5S1g"
      },
      "execution_count": 45,
      "outputs": []
    },
    {
      "cell_type": "markdown",
      "source": [
        "### **5. Reconstructed Graph**"
      ],
      "metadata": {
        "id": "9rRTcOqwifU2"
      }
    },
    {
      "cell_type": "code",
      "source": [
        "nx.draw(G)"
      ],
      "metadata": {
        "colab": {
          "base_uri": "https://localhost:8080/",
          "height": 319
        },
        "id": "PIO8gGgE0lPd",
        "outputId": "7be6a710-30d2-422d-bfc8-4f803a4bf0c8"
      },
      "execution_count": 46,
      "outputs": [
        {
          "output_type": "display_data",
          "data": {
            "text/plain": [
              "<Figure size 432x288 with 1 Axes>"
            ],
            "image/png": "[encoded data removed]"
          },
          "metadata": {}
        }
      ]
    },
    {
      "cell_type": "code",
      "source": [
        "print(\"Number of isolates: \", nx.number_of_isolates(G))\n",
        "print(\"Number of connected components: \", nx.number_connected_components(G))\n",
        "for C in (G.subgraph(c).copy() for c in sorted(nx.connected_components(G), key=len)):\n",
        "  lcc = C\n",
        "print(\"Size of giant component: \",nx.number_of_nodes(lcc))\n",
        "print(\"kmax value: \",kmax)\n",
        "print(\"Average Degree: \",nx.number_of_edges(G) / nx.number_of_nodes(G))"
      ],
      "metadata": {
        "id": "GAWtmAKywrHe",
        "colab": {
          "base_uri": "https://localhost:8080/"
        },
        "outputId": "99f78d6c-0469-481c-edd7-ea147a026e8b"
      },
      "execution_count": 47,
      "outputs": [
        {
          "output_type": "stream",
          "name": "stdout",
          "text": [
            "Number of isolates:  424\n",
            "Number of connected components:  448\n",
            "Size of giant component:  505\n",
            "kmax value:  6.437815975733064\n",
            "Average Degree:  0.7391304347826086\n"
          ]
        }
      ]
    }
  ]
}