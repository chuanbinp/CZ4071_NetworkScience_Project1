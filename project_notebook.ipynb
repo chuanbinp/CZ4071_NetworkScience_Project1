{
 "cells": [
  {
   "cell_type": "code",
   "execution_count": null,
   "metadata": {},
   "outputs": [],
   "source": [
    "import pandas as pd\n",
    "import networkx as nx\n",
    "import matplotlib.pyplot as plt\n",
    "import numpy as np"
   ]
  },
  {
   "cell_type": "markdown",
   "metadata": {},
   "source": [
    "# Input file"
   ]
  },
  {
   "cell_type": "code",
   "execution_count": null,
   "metadata": {},
   "outputs": [],
   "source": [
    "df = pd.read_csv(\"./Input/ProcessedNetworkDataFrame.csv\")\n",
    "df"
   ]
  },
  {
   "cell_type": "markdown",
   "metadata": {},
   "source": [
    "# Generate network\n",
    "\n",
    "1. zip(author_pid, coauthor_pid)\n",
    "2. add edges"
   ]
  },
  {
   "cell_type": "code",
   "execution_count": null,
   "metadata": {},
   "outputs": [],
   "source": [
    "author_pid = df[\"author_pid\"].to_list()\n",
    "coauthor_pid = df[\"coauthor_pid\"].to_list()\n",
    "collaborations = list(zip(author_pid, coauthor_pid))"
   ]
  },
  {
   "cell_type": "code",
   "execution_count": null,
   "metadata": {},
   "outputs": [],
   "source": [
    "G = nx.Graph()\n",
    "G.add_edges_from(collaborations)"
   ]
  },
  {
   "cell_type": "code",
   "execution_count": null,
   "metadata": {},
   "outputs": [],
   "source": [
    "nx.draw(G)"
   ]
  },
  {
   "cell_type": "markdown",
   "metadata": {},
   "source": [
    "### 1. What are the properties of the collaboration network?\n",
    "a. Size: number of nodes and edges\n",
    "<br>\n",
    "b: Degree analysis\n",
    "<br>\n",
    "c. Average shortest path length\n",
    "<br>\n",
    "d. Clustering coefficient\n",
    "<br>\n",
    "e. Connectedness: GC/WCC/SCC\n",
    "<br>\n",
    "f. Centrality: Degree, Eigenvector, Betweenness, Closeness"
   ]
  },
  {
   "cell_type": "code",
   "execution_count": null,
   "metadata": {},
   "outputs": [],
   "source": [
    "print(f\"Number of nodes: {G.number_of_nodes()}\")\n",
    "print(f\"Number of edges: {G.number_of_edges()}\")\n",
    "print(nx.info(G))"
   ]
  },
  {
   "cell_type": "code",
   "execution_count": null,
   "metadata": {},
   "outputs": [],
   "source": [
    "degree_sequence = sorted((d for n, d in G.degree()), reverse=True)\n",
    "dmax = max(degree_sequence)\n",
    "\n",
    "fig, ax = plt.subplots()\n",
    "ax.bar(*np.unique(degree_sequence, return_counts=True))\n",
    "ax.set_title(\"Degree Histogram\")\n",
    "ax.set_xlabel(\"Degree\")\n",
    "ax.set_ylabel(\"Number of nodes\")\n",
    "\n",
    "plt.show()"
   ]
  },
  {
   "cell_type": "code",
   "execution_count": null,
   "metadata": {},
   "outputs": [],
   "source": [
    "i = 1\n",
    "for C in (G.subgraph(c).copy() for c in nx.connected_components(G)):\n",
    "    print(f\"Sub-graph {i}\")\n",
    "    print(f\"Average shortest path length: {nx.average_shortest_path_length(C):.2f}\")\n",
    "    print(f\"Diameter: {nx.diameter(C)}\\n\")\n",
    "    i += 1"
   ]
  },
  {
   "cell_type": "code",
   "execution_count": null,
   "metadata": {},
   "outputs": [],
   "source": [
    "print(f\"Average clustering coefficient: {nx.average_clustering(G):.2f}\")"
   ]
  },
  {
   "cell_type": "code",
   "execution_count": null,
   "metadata": {},
   "outputs": [],
   "source": [
    "degree_centrality = nx.degree_centrality(G)\n",
    "max_degree_centrality = max(degree_centrality)\n",
    "print(f\"PID with the highest degree centrality: {max_degree_centrality}, with score of {degree_centrality[max_degree_centrality]:.5f}\\n\")\n",
    "\n",
    "eigen_centrality = nx.eigenvector_centrality(G)\n",
    "max_eigen_centrality = max(eigen_centrality)\n",
    "print(f\"PID with the highest eigenvector centrality: {max_eigen_centrality}, with score of {eigen_centrality[max_eigen_centrality]:.5f}\\n\")\n",
    "\n",
    "betweenness_centrality = nx.betweenness_centrality(G)\n",
    "max_betweenness_centrality = max(betweenness_centrality)\n",
    "print(f\"PID with the highest betweenness centrality: {max_betweenness_centrality}, with score of {betweenness_centrality[max_betweenness_centrality]:.5f}\\n\")\n",
    "\n",
    "closeness_centrality = nx.closeness_centrality(G)\n",
    "max_closeness_centrality = max(closeness_centrality)\n",
    "print(f\"PID with the highest closeness centrality: {max_closeness_centrality}, with score of {closeness_centrality[max_closeness_centrality]:.5f}\\n\")"
   ]
  },
  {
   "cell_type": "markdown",
   "metadata": {},
   "source": [
    "# How has the collaboration network and its properties evolved over time?"
   ]
  },
  {
   "cell_type": "code",
   "execution_count": null,
   "metadata": {},
   "outputs": [],
   "source": []
  },
  {
   "cell_type": "markdown",
   "metadata": {},
   "source": [
    "# Assume that we create a random network from the set of individuals in the input file. How does the properties of this network differ from the real collaboration network?"
   ]
  },
  {
   "cell_type": "code",
   "execution_count": null,
   "metadata": {},
   "outputs": [],
   "source": [
    "# real network has 989 nodes\n",
    "gnp = nx.fast_gnp_random_graph(n=989, p=0.03, seed=4071)\n",
    "\n",
    "print(f\"Number of nodes: {gnp.number_of_nodes()}\")\n",
    "print(f\"Number of edges: {gnp.number_of_edges()}\")"
   ]
  },
  {
   "cell_type": "code",
   "execution_count": null,
   "metadata": {},
   "outputs": [],
   "source": [
    "gnp_degree_sequence = sorted((d for n, d in gnp.degree()), reverse=True)\n",
    "\n",
    "fig, ax = plt.subplots()\n",
    "ax.bar(*np.unique(gnp_degree_sequence, return_counts=True))\n",
    "ax.set_title(\"Degree Histogram\")\n",
    "ax.set_xlabel(\"Degree\")\n",
    "ax.set_ylabel(\"Number of nodes\")\n",
    "\n",
    "plt.show()"
   ]
  },
  {
   "cell_type": "code",
   "execution_count": null,
   "metadata": {},
   "outputs": [],
   "source": [
    "print(f\"Average shortest path length: {nx.average_shortest_path_length(gnp):.5f}\")"
   ]
  },
  {
   "cell_type": "code",
   "execution_count": null,
   "metadata": {},
   "outputs": [],
   "source": [
    "print(f\"Average clustering coefficient: {nx.average_clustering(gnp):.5f}\")"
   ]
  },
  {
   "cell_type": "markdown",
   "metadata": {},
   "source": [
    "### Observations\n",
    "1. Degree distribution follows Poisson Distribution\n",
    "<br>\n",
    "2. Average shortest path length is similar to that of the real collaboration network\n",
    "<br>\n",
    "3. Average clustering coefficient is much lower than real collaboration network"
   ]
  }
 ],
 "metadata": {
  "interpreter": {
   "hash": "488de566262d8e344508f9c762a7ae5c7edfd89139a842cecbeabebbc40d268d"
  },
  "kernelspec": {
   "display_name": "Python 3.10.2 64-bit",
   "language": "python",
   "name": "python3"
  },
  "language_info": {
   "codemirror_mode": {
    "name": "ipython",
    "version": 3
   },
   "file_extension": ".py",
   "mimetype": "text/x-python",
   "name": "python",
   "nbconvert_exporter": "python",
   "pygments_lexer": "ipython3",
   "version": "3.10.2"
  },
  "orig_nbformat": 4
 },
 "nbformat": 4,
 "nbformat_minor": 2
}
